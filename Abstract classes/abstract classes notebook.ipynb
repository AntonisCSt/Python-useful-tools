{
 "cells": [
  {
   "attachments": {},
   "cell_type": "markdown",
   "metadata": {},
   "source": [
    "## Abstract classes"
   ]
  },
  {
   "cell_type": "code",
   "execution_count": 2,
   "metadata": {},
   "outputs": [],
   "source": [
    "#source: https://docs.python.org/3/library/abc.html"
   ]
  },
  {
   "cell_type": "markdown",
   "metadata": {},
   "source": [
    " The abc library in Python stands for \"Abstract Base Classes\" and it provides a way to define abstract classes in Python. Abstract classes are classes that cannot be instantiated directly, but instead are intended to be subclassed and have their methods overridden by the subclasses.\n",
    "\n",
    "Here is a simple example of how the abc module can be used to create an abstract base class:"
   ]
  },
  {
   "cell_type": "code",
   "execution_count": 3,
   "metadata": {},
   "outputs": [
    {
     "name": "stdout",
     "output_type": "stream",
     "text": [
      "Woof!\n",
      "Meow!\n"
     ]
    }
   ],
   "source": [
    "import abc\n",
    "\n",
    "class Animal(metaclass=abc.ABCMeta):\n",
    "    @abc.abstractmethod\n",
    "    def speak(self):\n",
    "        pass\n",
    "\n",
    "class Dog(Animal):\n",
    "    def speak(self):\n",
    "        return \"Woof!\"\n",
    "\n",
    "class Cat(Animal):\n",
    "    def speak(self):\n",
    "        return \"Meow!\"\n",
    "\n",
    "d = Dog()\n",
    "print(d.speak())\n",
    "\n",
    "c = Cat()\n",
    "print(c.speak())\n"
   ]
  },
  {
   "cell_type": "markdown",
   "metadata": {},
   "source": [
    "Why use them? if you create a class inherited from the parent class. The parent class can contain abstract classes that the children must use/configure. (otherwise you get an error)"
   ]
  },
  {
   "cell_type": "code",
   "execution_count": 4,
   "metadata": {},
   "outputs": [
    {
     "ename": "TypeError",
     "evalue": "Can't instantiate abstract class Dog with abstract methods sleep",
     "output_type": "error",
     "traceback": [
      "\u001b[1;31m---------------------------------------------------------------------------\u001b[0m",
      "\u001b[1;31mTypeError\u001b[0m                                 Traceback (most recent call last)",
      "\u001b[1;32m<ipython-input-4-4755d8ee40d8>\u001b[0m in \u001b[0;36m<module>\u001b[1;34m\u001b[0m\n\u001b[0;32m     18\u001b[0m         \u001b[1;32mreturn\u001b[0m \u001b[1;34m\"Meow!\"\u001b[0m\u001b[1;33m\u001b[0m\u001b[1;33m\u001b[0m\u001b[0m\n\u001b[0;32m     19\u001b[0m \u001b[1;33m\u001b[0m\u001b[0m\n\u001b[1;32m---> 20\u001b[1;33m \u001b[0md\u001b[0m \u001b[1;33m=\u001b[0m \u001b[0mDog\u001b[0m\u001b[1;33m(\u001b[0m\u001b[1;33m)\u001b[0m\u001b[1;33m\u001b[0m\u001b[1;33m\u001b[0m\u001b[0m\n\u001b[0m\u001b[0;32m     21\u001b[0m \u001b[0mprint\u001b[0m\u001b[1;33m(\u001b[0m\u001b[0md\u001b[0m\u001b[1;33m.\u001b[0m\u001b[0mspeak\u001b[0m\u001b[1;33m(\u001b[0m\u001b[1;33m)\u001b[0m\u001b[1;33m)\u001b[0m\u001b[1;33m\u001b[0m\u001b[1;33m\u001b[0m\u001b[0m\n\u001b[0;32m     22\u001b[0m \u001b[1;33m\u001b[0m\u001b[0m\n",
      "\u001b[1;31mTypeError\u001b[0m: Can't instantiate abstract class Dog with abstract methods sleep"
     ]
    }
   ],
   "source": [
    "import abc\n",
    "\n",
    "class Animal(metaclass=abc.ABCMeta):\n",
    "    @abc.abstractmethod\n",
    "    def speak(self):\n",
    "        pass\n",
    "\n",
    "    @abc.abstractmethod\n",
    "    def sleep(self):\n",
    "        pass\n",
    "    \n",
    "class Dog(Animal):\n",
    "    def speak(self):\n",
    "        return \"Woof!\"\n",
    "\n",
    "class Cat(Animal):\n",
    "    def speak(self):\n",
    "        return \"Meow!\"\n",
    "\n",
    "d = Dog()\n",
    "print(d.speak())\n",
    "\n",
    "c = Cat()\n",
    "print(c.speak())"
   ]
  },
  {
   "attachments": {},
   "cell_type": "markdown",
   "metadata": {},
   "source": [
    "In this example, the Animal class is defined as an abstract base class using the abc.ABCMeta metaclass. It has a single abstract method speak(), which is not implemented in the base class but must be implemented by any concrete subclass.\n",
    "\n",
    "The Dog and Cat classes are concrete subclasses of Animal, which means that they must implement the speak() method. In this case, Dog returns \"Woof!\" and Cat returns \"Meow!\" when speak() is called.\n",
    "\n",
    "By using abc, you can enforce that all subclasses of Animal implement the speak() method, and raise a TypeError (for example `TypeError: Can't instantiate abstract class Dog with abstract methods sleep`) if they do not. \n",
    "\n",
    "This can be useful in large projects where you want to ensure consistency among classes that share a common interface."
   ]
  },
  {
   "cell_type": "code",
   "execution_count": 7,
   "metadata": {},
   "outputs": [
    {
     "name": "stdout",
     "output_type": "stream",
     "text": [
      "[[0, 2, 3], [4, 5, 6]]\n",
      "[[1, 2, 3], [4, 5, 6]]\n",
      "[[0, 2, 3], [4, 5, 6]]\n",
      "[[0, 2, 3], [4, 5, 6]]\n"
     ]
    }
   ],
   "source": [
    "import copy\n",
    "\n",
    "original_list1 = [[1, 2, 3], [4, 5, 6]]\n",
    "original_list2 = [[1, 2, 3], [4, 5, 6]]\n",
    "shallow_copy = copy.copy(original_list1)\n",
    "deep_copy = copy.deepcopy(original_list2)\n",
    "\n",
    "# Modify the first element of the first sublist in each copy\n",
    "shallow_copy[0][0] = 0\n",
    "deep_copy[0][0] = 0\n",
    "\n",
    "print(original_list1)  # Output: [[0, 2, 3], [4, 5, 6]]\n",
    "print(original_list2)  # Output: [[1, 2, 3], [4, 5, 6]]\n",
    "print(shallow_copy)    # Output: [[0, 2, 3], [4, 5, 6]]\n",
    "print(deep_copy)       # Output: [[0, 2, 3], [4, 5, 6]]"
   ]
  },
  {
   "cell_type": "code",
   "execution_count": null,
   "metadata": {},
   "outputs": [],
   "source": []
  },
  {
   "cell_type": "markdown",
   "metadata": {},
   "source": []
  }
 ],
 "metadata": {
  "kernelspec": {
   "display_name": "base",
   "language": "python",
   "name": "python3"
  },
  "language_info": {
   "codemirror_mode": {
    "name": "ipython",
    "version": 3
   },
   "file_extension": ".py",
   "mimetype": "text/x-python",
   "name": "python",
   "nbconvert_exporter": "python",
   "pygments_lexer": "ipython3",
   "version": "3.8.8"
  },
  "orig_nbformat": 4
 },
 "nbformat": 4,
 "nbformat_minor": 2
}
