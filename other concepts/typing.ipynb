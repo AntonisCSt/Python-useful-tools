{
 "cells": [
  {
   "cell_type": "markdown",
   "metadata": {},
   "source": [
    "Type variables allow you to write more generic code that can work with different types, while still retaining some type safety."
   ]
  },
  {
   "cell_type": "code",
   "execution_count": 6,
   "metadata": {},
   "outputs": [],
   "source": [
    "from typing import TYPE_CHECKING\n",
    "from typing import Any\n",
    "from typing import ClassVar\n",
    "from typing import Dict\n",
    "from typing import Generic\n",
    "from typing import List\n",
    "from typing import Optional\n",
    "from typing import Set\n",
    "from typing import Type\n",
    "from typing import TypeVar\n",
    "from typing import Union"
   ]
  },
  {
   "cell_type": "code",
   "execution_count": null,
   "metadata": {},
   "outputs": [],
   "source": []
  },
  {
   "attachments": {},
   "cell_type": "markdown",
   "metadata": {},
   "source": [
    "TypeVar is a class that is used to create type variables.\n",
    "\n"
   ]
  },
  {
   "cell_type": "code",
   "execution_count": 1,
   "metadata": {},
   "outputs": [],
   "source": [
    "from typing import TypeVar"
   ]
  },
  {
   "cell_type": "code",
   "execution_count": 3,
   "metadata": {},
   "outputs": [],
   "source": [
    "class MetricResult:\n",
    "    pass\n",
    "\n",
    "TResult = TypeVar(\"TResult\", bound=MetricResult)\n",
    "\n",
    "def get_result() -> TResult:\n",
    "    # code to get the result\n",
    "    pass\n",
    "\n",
    "# the returned value will be a subclass of MetricResult\n",
    "result = get_result()"
   ]
  },
  {
   "cell_type": "code",
   "execution_count": 5,
   "metadata": {},
   "outputs": [
    {
     "data": {
      "text/plain": [
       "NoneType"
      ]
     },
     "execution_count": 5,
     "metadata": {},
     "output_type": "execute_result"
    }
   ],
   "source": [
    "type(result)"
   ]
  },
  {
   "attachments": {},
   "cell_type": "markdown",
   "metadata": {},
   "source": [
    "In this case, the TypeVar is being used to create a type variable named TResult. The bound parameter is being used to specify that TResult should be bound to a type that is a subclass of MetricResult.\n",
    "\n",
    "MetricResult is presumably another class that has already been defined in the code. By using TypeVar with the bound parameter, we're essentially saying that TResult can be any subclass of MetricResult.\n",
    "\n",
    "So, TResult can be used in function or method signatures, for example, to indicate that the function returns an object of a certain type (i.e., a subclass of MetricResult). Then, the code that calls the function can be sure that the returned value is of the correct type."
   ]
  },
  {
   "cell_type": "markdown",
   "metadata": {},
   "source": []
  }
 ],
 "metadata": {
  "kernelspec": {
   "display_name": "base",
   "language": "python",
   "name": "python3"
  },
  "language_info": {
   "codemirror_mode": {
    "name": "ipython",
    "version": 3
   },
   "file_extension": ".py",
   "mimetype": "text/x-python",
   "name": "python",
   "nbconvert_exporter": "python",
   "pygments_lexer": "ipython3",
   "version": "3.8.8"
  },
  "orig_nbformat": 4
 },
 "nbformat": 4,
 "nbformat_minor": 2
}
