{
 "cells": [
  {
   "cell_type": "code",
   "execution_count": 2,
   "metadata": {},
   "outputs": [],
   "source": [
    "from datetime import datetime\n",
    "from typing import List, Optional\n",
    "from pydantic import BaseModel\n"
   ]
  },
  {
   "cell_type": "code",
   "execution_count": 8,
   "metadata": {},
   "outputs": [],
   "source": [
    "class User(BaseModel):\n",
    "    id: int\n",
    "    name = 'John Doe'\n",
    "    signup_ts: Optional[datetime] = None\n",
    "    friends: List[int] = []\n"
   ]
  },
  {
   "cell_type": "code",
   "execution_count": 7,
   "metadata": {},
   "outputs": [
    {
     "name": "stdout",
     "output_type": "stream",
     "text": [
      "123\n",
      "datetime.datetime(2019, 6, 1, 12, 22)\n",
      "[1, 2, 3]\n",
      "{'id': 123, 'signup_ts': datetime.datetime(2019, 6, 1, 12, 22), 'friends': [1, 2, 3], 'name': 'John Doe'}\n"
     ]
    },
    {
     "data": {
      "text/plain": [
       "\"\\n{\\n    'id': 123,\\n    'signup_ts': datetime.datetime(2019, 6, 1, 12, 22),\\n    'friends': [1, 2, 3],\\n    'name': 'John Doe',\\n}\\n\""
      ]
     },
     "execution_count": 7,
     "metadata": {},
     "output_type": "execute_result"
    }
   ],
   "source": [
    "external_data = {\n",
    "    'id': '123',\n",
    "    'signup_ts': '2019-06-01 12:22',\n",
    "    'friends': [1, 2, '3'],\n",
    "}\n",
    "user = User(**external_data)\n",
    "print(user.id)\n",
    "#> 123\n",
    "print(repr(user.signup_ts))\n",
    "#> datetime.datetime(2019, 6, 1, 12, 22)\n",
    "print(user.friends)\n",
    "#> [1, 2, 3]\n",
    "print(user.dict())\n",
    "\"\"\"\n",
    "{\n",
    "    'id': 123,\n",
    "    'signup_ts': datetime.datetime(2019, 6, 1, 12, 22),\n",
    "    'friends': [1, 2, 3],\n",
    "    'name': 'John Doe',\n",
    "}\n",
    "\"\"\""
   ]
  },
  {
   "cell_type": "code",
   "execution_count": 22,
   "metadata": {},
   "outputs": [],
   "source": [
    "#using dataclasses from previous lesson"
   ]
  },
  {
   "cell_type": "code",
   "execution_count": null,
   "metadata": {},
   "outputs": [],
   "source": [
    "from dataclasses import dataclass\n",
    "\n",
    "@dataclass\n",
    "class Person_User:\n",
    "    id: int\n",
    "    name = 'John Doe'\n",
    "    signup_ts: Optional[datetime] \n",
    "    friends: List[int] "
   ]
  },
  {
   "cell_type": "code",
   "execution_count": 12,
   "metadata": {},
   "outputs": [],
   "source": [
    "user = Person_User(**external_data)"
   ]
  },
  {
   "cell_type": "code",
   "execution_count": 13,
   "metadata": {},
   "outputs": [
    {
     "name": "stdout",
     "output_type": "stream",
     "text": [
      "123\n"
     ]
    }
   ],
   "source": [
    "print(user.id)"
   ]
  },
  {
   "cell_type": "code",
   "execution_count": 14,
   "metadata": {},
   "outputs": [
    {
     "name": "stdout",
     "output_type": "stream",
     "text": [
      "'2019-06-01 12:22'\n"
     ]
    }
   ],
   "source": [
    "print(repr(user.signup_ts))"
   ]
  },
  {
   "cell_type": "code",
   "execution_count": 17,
   "metadata": {},
   "outputs": [
    {
     "data": {
      "text/plain": [
       "'2019-06-01 12:22'"
      ]
     },
     "execution_count": 17,
     "metadata": {},
     "output_type": "execute_result"
    }
   ],
   "source": [
    "user.signup_ts"
   ]
  },
  {
   "cell_type": "code",
   "execution_count": 18,
   "metadata": {},
   "outputs": [
    {
     "name": "stdout",
     "output_type": "stream",
     "text": [
      "[1, 2, '3']\n"
     ]
    }
   ],
   "source": [
    "print(user.friends)"
   ]
  },
  {
   "cell_type": "code",
   "execution_count": 21,
   "metadata": {},
   "outputs": [
    {
     "name": "stdout",
     "output_type": "stream",
     "text": [
      "Person_User(id='123', signup_ts='2019-06-01 12:22', friends=[1, 2, '3'])\n"
     ]
    }
   ],
   "source": [
    "print(user)"
   ]
  },
  {
   "attachments": {},
   "cell_type": "markdown",
   "metadata": {},
   "source": [
    "Differencies:\n",
    "\n",
    "Both Pydantic and the @dataclass decorator are Python libraries that provide a way to define classes with data attributes. While they have some similarities, they also have some important differences in their approach and functionality.\n",
    "\n",
    "Here are some key differences between Pydantic and @dataclass:\n",
    "\n",
    "* Validation and serialization: Pydantic is primarily focused on validation and serialization of data, while @dataclass is focused on providing a convenient way to define classes with data attributes. Pydantic provides powerful validation features, allowing you to define data schemas and automatically validate and serialize data according to those schemas. @dataclass does not provide any built-in validation or serialization functionality.\n",
    "\n",
    "* Type hints and annotations: Pydantic relies heavily on type hints and annotations to define data schemas, validate input data, and serialize output data. @dataclass also supports type hints and annotations, but they are not as central to its functionality.\n",
    "\n",
    "* Attribute defaults and initialization: Pydantic allows you to define default values for attributes and automatically initializes instances with default values when not all attributes are present in the input data. @dataclass allows you to define default values for attributes, but does not automatically initialize instances with default values.\n",
    "\n",
    "* Inheritance and subclassing: Pydantic provides support for inheritance and subclassing, allowing you to define data schemas and validators for subclasses that inherit from a base schema. @dataclass also supports inheritance and subclassing, but its behavior can be less predictable in some cases.\n",
    "\n",
    "In summary, Pydantic and @dataclass are both libraries that provide a way to define classes with data attributes, but they have different focuses and functionality. Pydantic is primarily focused on data validation and serialization, while @dataclass is focused on providing a convenient way to define classes with data attributes. Depending on your use case, one library may be more appropriate than the other."
   ]
  },
  {
   "attachments": {},
   "cell_type": "markdown",
   "metadata": {},
   "source": [
    "Similarities:\n",
    "\n",
    "Both Pydantic and the @dataclass decorator share some similarities as well:\n",
    "\n",
    "* Python 3.6+ support: Both Pydantic and @dataclass require Python 3.6 or later.\n",
    "\n",
    "* Class attribute definition: Both Pydantic and @dataclass allow you to define class attributes using a simple syntax, which can make it easier to define classes with data attributes.\n",
    "\n",
    "* Automatic creation of __init__ method: Both Pydantic and @dataclass automatically create an __init__ method for your class based on the attributes defined in the class. This can save you from having to write boilerplate code for initializing your attributes.\n",
    "\n",
    "* Immutable and mutable classes: Both Pydantic and @dataclass allow you to define classes with immutable or mutable attributes, depending on your needs.\n",
    "\n",
    "* Flexible attribute types: Both Pydantic and @dataclass support a wide range of attribute types, including basic types like strings and numbers, as well as more complex types like lists, dictionaries, and custom classes.\n",
    "\n",
    "Overall, Pydantic and @dataclass are similar in that they both provide a way to define classes with data attributes in Python, but they differ in their focus and functionality."
   ]
  },
  {
   "attachments": {},
   "cell_type": "markdown",
   "metadata": {},
   "source": [
    "next create examples for differences and similarities and create a project that uses both and individual to put them in your toolbox!"
   ]
  },
  {
   "cell_type": "markdown",
   "metadata": {},
   "source": []
  }
 ],
 "metadata": {
  "kernelspec": {
   "display_name": "base",
   "language": "python",
   "name": "python3"
  },
  "language_info": {
   "codemirror_mode": {
    "name": "ipython",
    "version": 3
   },
   "file_extension": ".py",
   "mimetype": "text/x-python",
   "name": "python",
   "nbconvert_exporter": "python",
   "pygments_lexer": "ipython3",
   "version": "3.8.8"
  },
  "orig_nbformat": 4
 },
 "nbformat": 4,
 "nbformat_minor": 2
}
