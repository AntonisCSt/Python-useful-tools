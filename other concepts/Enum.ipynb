{
 "cells": [
  {
   "attachments": {},
   "cell_type": "markdown",
   "metadata": {},
   "source": [
    "## Enum"
   ]
  },
  {
   "attachments": {},
   "cell_type": "markdown",
   "metadata": {},
   "source": [
    "`enum` is short for enumeration and refers to a datatype that is used to define a set of named constants.\n",
    "\n",
    "An enum consists of a fixed set of values, each of which is assigned a unique name."
   ]
  },
  {
   "cell_type": "code",
   "execution_count": 1,
   "metadata": {},
   "outputs": [],
   "source": [
    "from enum import Enum\n",
    "\n",
    "class Color(Enum):\n",
    "    RED = 'red'\n",
    "    GREEN = 'green'\n",
    "    BLUE = 'blue'"
   ]
  },
  {
   "attachments": {},
   "cell_type": "markdown",
   "metadata": {},
   "source": [
    "In this example, Color is an enum that defines three named constants: RED, GREEN, and BLUE. Each constant is assigned a unique integer value.\n",
    "\n",
    "Enums in Python are often used to represent a fixed set of values that have a specific meaning. For example, you might use an enum to represent the days of the week, the months of the year, or the directions of a compass.\n",
    "\n",
    "You can access the values of an enum using the dot notation. For example:"
   ]
  },
  {
   "cell_type": "code",
   "execution_count": 2,
   "metadata": {},
   "outputs": [
    {
     "data": {
      "text/plain": [
       "<Color.RED: 'red'>"
      ]
     },
     "execution_count": 2,
     "metadata": {},
     "output_type": "execute_result"
    }
   ],
   "source": [
    "Color.RED"
   ]
  },
  {
   "cell_type": "code",
   "execution_count": 3,
   "metadata": {},
   "outputs": [
    {
     "data": {
      "text/plain": [
       "<Color.BLUE: 'blue'>"
      ]
     },
     "execution_count": 3,
     "metadata": {},
     "output_type": "execute_result"
    }
   ],
   "source": [
    "Color.BLUE"
   ]
  },
  {
   "cell_type": "code",
   "execution_count": 4,
   "metadata": {},
   "outputs": [
    {
     "data": {
      "text/plain": [
       "'red'"
      ]
     },
     "execution_count": 4,
     "metadata": {},
     "output_type": "execute_result"
    }
   ],
   "source": [
    "Color.RED.value"
   ]
  },
  {
   "cell_type": "code",
   "execution_count": 5,
   "metadata": {},
   "outputs": [
    {
     "data": {
      "text/plain": [
       "'blue'"
      ]
     },
     "execution_count": 5,
     "metadata": {},
     "output_type": "execute_result"
    }
   ],
   "source": [
    "Color.BLUE.value"
   ]
  },
  {
   "cell_type": "code",
   "execution_count": 7,
   "metadata": {},
   "outputs": [
    {
     "name": "stdout",
     "output_type": "stream",
     "text": [
      "The value of Color.RED is red.\n",
      "The value of Color.GREEN is green.\n",
      "The value of Color.BLUE is blue.\n"
     ]
    }
   ],
   "source": [
    "def print_color_value(color: Color):\n",
    "    print(f\"The value of {color} is {color.value}.\")\n",
    "\n",
    "print_color_value(Color.RED)  # Output: \"The value of Color.RED is red.\"\n",
    "print_color_value(Color.GREEN)  # Output: \"The value of Color.GREEN is green.\"\n",
    "print_color_value(Color.BLUE)  # Output: \"The value of Color.BLUE is blue.\""
   ]
  },
  {
   "attachments": {},
   "cell_type": "markdown",
   "metadata": {},
   "source": [
    "if you did not want to use Enum you would something like that:"
   ]
  },
  {
   "cell_type": "code",
   "execution_count": 15,
   "metadata": {},
   "outputs": [
    {
     "name": "stdout",
     "output_type": "stream",
     "text": [
      "The value of Color.RED is red.\n",
      "The value of Color.GREEN is green.\n",
      "The value of Color.BLUE is blue.\n"
     ]
    }
   ],
   "source": [
    "class Color:\n",
    "    RED = \"red\"\n",
    "    GREEN = \"green\"\n",
    "    BLUE = \"blue\"\n",
    "\n",
    "def print_color_value(color: str):\n",
    "    if color == Color.RED:\n",
    "        print(\"The value of Color.RED is red.\")\n",
    "    elif color == Color.GREEN:\n",
    "        print(\"The value of Color.GREEN is green.\")\n",
    "    elif color == Color.BLUE:\n",
    "        print(\"The value of Color.BLUE is blue.\")\n",
    "    else:\n",
    "        print(\"Unknown color.\")\n",
    "\n",
    "print_color_value(Color.RED)  # Output: \"The value of Color.RED is red.\"\n",
    "print_color_value(Color.GREEN)  # Output: \"The value of Color.GREEN is green.\"\n",
    "print_color_value(Color.BLUE)  # Output: \"The value of Color.BLUE is blue.\""
   ]
  },
  {
   "attachments": {},
   "cell_type": "markdown",
   "metadata": {},
   "source": [
    "In this example, we define a class called Color that contains three class-level constants: RED, GREEN, and BLUE, each with a string value of \"red\", \"green\", and \"blue\", respectively.\n",
    "\n",
    "We then define a function called print_color_value that takes a string argument and prints a message to the console that displays the name of the color and its assigned value.\n",
    "\n",
    "When we call the print_color_value function with different color strings, it checks which color string was passed in using the == operator and prints a message that depends on the color string.\n",
    "\n",
    "Note that this approach does not provide the same level of type safety as the enum library. For example, you can pass any string to the print_color_value function, even if it is not one of the defined colors. Additionally, this approach does not provide the same level of readability as the enum library, since the constants are not defined in a way that makes it clear that they are related."
   ]
  },
  {
   "cell_type": "markdown",
   "metadata": {},
   "source": []
  }
 ],
 "metadata": {
  "kernelspec": {
   "display_name": "base",
   "language": "python",
   "name": "python3"
  },
  "language_info": {
   "codemirror_mode": {
    "name": "ipython",
    "version": 3
   },
   "file_extension": ".py",
   "mimetype": "text/x-python",
   "name": "python",
   "nbconvert_exporter": "python",
   "pygments_lexer": "ipython3",
   "version": "3.8.8"
  },
  "orig_nbformat": 4
 },
 "nbformat": 4,
 "nbformat_minor": 2
}
