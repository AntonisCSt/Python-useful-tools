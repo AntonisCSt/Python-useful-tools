{
 "cells": [
  {
   "cell_type": "code",
   "execution_count": 1,
   "metadata": {},
   "outputs": [],
   "source": [
    "#Intro\n",
    "\n",
    "#following: https://www.youtube.com/watch?v=NAQEj-c2CI8"
   ]
  },
  {
   "cell_type": "code",
   "execution_count": 3,
   "metadata": {},
   "outputs": [],
   "source": [
    "#Classes\n",
    "\n",
    "#python allows us to do this:\n",
    "def hello():\n",
    "    class Hi:\n",
    "        pass\n",
    "\n",
    "    return Hi\n",
    "\n",
    "\n",
    "#We can do this \n",
    "#because classes are actually objects in python\n",
    "\n",
    "#So if classes create objects as well\n",
    "#Then this object/class was created from a higher class"
   ]
  },
  {
   "cell_type": "code",
   "execution_count": 11,
   "metadata": {},
   "outputs": [
    {
     "name": "stdout",
     "output_type": "stream",
     "text": [
      "<class '__main__.hello.<locals>.Hi'>\n"
     ]
    }
   ],
   "source": [
    "print(hello())"
   ]
  },
  {
   "cell_type": "code",
   "execution_count": 6,
   "metadata": {},
   "outputs": [],
   "source": [
    "# a class defines the rules for an object (functions, attributes etc.)"
   ]
  },
  {
   "cell_type": "code",
   "execution_count": 9,
   "metadata": {},
   "outputs": [],
   "source": [
    "# What a METACLASS does is that it defines the rules for a class!!!!!!!!!!!!!"
   ]
  },
  {
   "cell_type": "code",
   "execution_count": 12,
   "metadata": {},
   "outputs": [
    {
     "name": "stdout",
     "output_type": "stream",
     "text": [
      "<class '__main__.Tests'>\n",
      "<__main__.Tests object at 0x00000206ABF33D30>\n"
     ]
    }
   ],
   "source": [
    "class Tests:\n",
    "    pass\n",
    "\n",
    "print(Tests)\n",
    "print(Tests())"
   ]
  },
  {
   "cell_type": "code",
   "execution_count": 13,
   "metadata": {},
   "outputs": [
    {
     "name": "stdout",
     "output_type": "stream",
     "text": [
      "<class '__main__.Tests'>\n",
      "<class 'int'>\n"
     ]
    }
   ],
   "source": [
    "print(type(Tests()))\n",
    "print(type(2))"
   ]
  },
  {
   "cell_type": "code",
   "execution_count": 14,
   "metadata": {},
   "outputs": [
    {
     "name": "stdout",
     "output_type": "stream",
     "text": [
      "<class 'type'>\n"
     ]
    }
   ],
   "source": [
    "# what is the type of a class?\n",
    "\n",
    "print(type(Tests))\n",
    "\n",
    "#this is what will be referring as metaclass\n"
   ]
  },
  {
   "cell_type": "code",
   "execution_count": 15,
   "metadata": {},
   "outputs": [],
   "source": [
    "#Sooo when we create a class, we call a type type constructor using the different this in class to make objects!"
   ]
  },
  {
   "cell_type": "code",
   "execution_count": 16,
   "metadata": {},
   "outputs": [],
   "source": [
    "#So if, by doing: \"Class Tests:\", we are calling a type constructor, can we actually use the type function to create our own function?"
   ]
  },
  {
   "cell_type": "code",
   "execution_count": 17,
   "metadata": {},
   "outputs": [],
   "source": [
    "Test = type('Test', (),{})"
   ]
  },
  {
   "cell_type": "code",
   "execution_count": null,
   "metadata": {},
   "outputs": [],
   "source": [
    "#THIS IS THE SAME AS:\n",
    "#\n",
    "#class Tests:\n",
    "#    pass"
   ]
  },
  {
   "cell_type": "code",
   "execution_count": 18,
   "metadata": {},
   "outputs": [
    {
     "name": "stdout",
     "output_type": "stream",
     "text": [
      "<class '__main__.Test'>\n"
     ]
    }
   ],
   "source": [
    "print(Test)"
   ]
  },
  {
   "cell_type": "code",
   "execution_count": 19,
   "metadata": {},
   "outputs": [],
   "source": [
    "Test5 = type('Test', (),{\"x\":5})"
   ]
  },
  {
   "cell_type": "code",
   "execution_count": 22,
   "metadata": {},
   "outputs": [],
   "source": [
    "#this is the same as:\n",
    "class Tests5():\n",
    "    x = 5\n",
    "    pass"
   ]
  },
  {
   "cell_type": "code",
   "execution_count": 23,
   "metadata": {},
   "outputs": [
    {
     "name": "stdout",
     "output_type": "stream",
     "text": [
      "5\n",
      "5\n"
     ]
    }
   ],
   "source": [
    "t= Test5()\n",
    "print(t.x)\n",
    "\n",
    "t= Tests5()\n",
    "print(t.x)"
   ]
  },
  {
   "cell_type": "code",
   "execution_count": 24,
   "metadata": {},
   "outputs": [],
   "source": [
    "#What about methods????"
   ]
  },
  {
   "cell_type": "code",
   "execution_count": 27,
   "metadata": {},
   "outputs": [],
   "source": [
    "class Foo:\n",
    "    def show(self):\n",
    "        print(\"hi\")"
   ]
  },
  {
   "cell_type": "code",
   "execution_count": 29,
   "metadata": {},
   "outputs": [],
   "source": [
    "Test_foo = type('Test', (Foo,),{\"x\":5})\n"
   ]
  },
  {
   "cell_type": "code",
   "execution_count": 32,
   "metadata": {},
   "outputs": [],
   "source": [
    "t = Test_foo()"
   ]
  },
  {
   "cell_type": "code",
   "execution_count": 34,
   "metadata": {},
   "outputs": [
    {
     "name": "stdout",
     "output_type": "stream",
     "text": [
      "hi\n"
     ]
    }
   ],
   "source": [
    "t.show()\n",
    "\n",
    "#The class Test_foo inherited the show from class Foo"
   ]
  },
  {
   "cell_type": "code",
   "execution_count": 35,
   "metadata": {},
   "outputs": [],
   "source": [
    "#add methods/attributes "
   ]
  },
  {
   "cell_type": "code",
   "execution_count": 36,
   "metadata": {},
   "outputs": [],
   "source": [
    "def add_attribute(self):\n",
    "    self.z = 9"
   ]
  },
  {
   "cell_type": "code",
   "execution_count": 37,
   "metadata": {},
   "outputs": [],
   "source": [
    "Test_foo = type('Test', (Foo,),{\"x\":5,\"add_attribute\":add_attribute})"
   ]
  },
  {
   "cell_type": "code",
   "execution_count": 39,
   "metadata": {},
   "outputs": [
    {
     "name": "stdout",
     "output_type": "stream",
     "text": [
      "9\n"
     ]
    }
   ],
   "source": [
    "t = Test_foo()\n",
    "t.add_attribute()\n",
    "print(t.z)"
   ]
  },
  {
   "cell_type": "code",
   "execution_count": 45,
   "metadata": {},
   "outputs": [],
   "source": [
    "#this is equivalent to this:\n",
    "\n",
    "class Tests5(Foo):\n",
    "    x = 5\n",
    "    \n",
    "    def add_attribute(self):\n",
    "        self.z = 9\n",
    "\n",
    "\n",
    "    pass"
   ]
  },
  {
   "cell_type": "code",
   "execution_count": 47,
   "metadata": {},
   "outputs": [],
   "source": [
    "t_eq = Tests5()"
   ]
  },
  {
   "cell_type": "code",
   "execution_count": 48,
   "metadata": {},
   "outputs": [
    {
     "name": "stdout",
     "output_type": "stream",
     "text": [
      "hi\n"
     ]
    }
   ],
   "source": [
    "t_eq.show()"
   ]
  },
  {
   "cell_type": "code",
   "execution_count": 49,
   "metadata": {},
   "outputs": [
    {
     "name": "stdout",
     "output_type": "stream",
     "text": [
      "9\n"
     ]
    }
   ],
   "source": [
    "t_eq.add_attribute()\n",
    "print(t_eq.z)"
   ]
  },
  {
   "cell_type": "code",
   "execution_count": 50,
   "metadata": {},
   "outputs": [],
   "source": [
    "# so after setting the basis lets get to metaclasses!!!\n",
    "\n",
    "# So again, a metaclass is above the classes you create yourself!"
   ]
  },
  {
   "cell_type": "code",
   "execution_count": 53,
   "metadata": {},
   "outputs": [],
   "source": [
    "# And we saw that with metaclass: type()\n",
    "\n",
    "#But lets create our own metaclass:"
   ]
  },
  {
   "cell_type": "code",
   "execution_count": 7,
   "metadata": {},
   "outputs": [],
   "source": [
    "class Meta(type): #you have to inherit from type!\n",
    "    def __new__(self, class_name, bases, attrs):\n",
    "         # type(name, bases, attribute) \n",
    "         # YOU CALL THIS BEFORE THE __INIT__ method YOU MODIFY HOW THE OBJECT IS CREATED. IN SUMMARY IT MODIFIES THE CONSTRUCTION OF OBJECT \n",
    "        print(attrs)\n",
    "        print(class_name)\n",
    "        print(bases)\n",
    "        return type(class_name, bases, attrs)\n",
    "        def __init__(): \n",
    "            # ALL THE INIT IS DOING IS AFTER THE NEW METHOD IS CALLED AND THE OBJECTS IS CONSTRUCTED IT INITIALIZES IT AND SETS THE PARAMETERS ETC.\n",
    "            pass\n",
    "             "
   ]
  },
  {
   "cell_type": "code",
   "execution_count": 8,
   "metadata": {},
   "outputs": [
    {
     "name": "stdout",
     "output_type": "stream",
     "text": [
      "{'__module__': '__main__', '__qualname__': 'Dog', 'x': 5, 'y': 8, 'hello': <function Dog.hello at 0x000001FC48D0C4C0>}\n",
      "Dog\n",
      "()\n"
     ]
    }
   ],
   "source": [
    "class Dog(metaclass=Meta):\n",
    "    x = 5\n",
    "    y = 8\n",
    "\n",
    "    def hello(self):\n",
    "        print('hi')\n",
    "        self.x = 6"
   ]
  },
  {
   "cell_type": "code",
   "execution_count": 55,
   "metadata": {},
   "outputs": [],
   "source": [
    "d = Dog()"
   ]
  },
  {
   "cell_type": "code",
   "execution_count": 57,
   "metadata": {},
   "outputs": [
    {
     "data": {
      "text/plain": [
       "5"
      ]
     },
     "execution_count": 57,
     "metadata": {},
     "output_type": "execute_result"
    }
   ],
   "source": [
    "d.x"
   ]
  },
  {
   "cell_type": "code",
   "execution_count": 30,
   "metadata": {},
   "outputs": [
    {
     "name": "stdout",
     "output_type": "stream",
     "text": [
      "{'__module__': '__main__', '__qualname__': 'MyClass', 'foo': 1, 'bar': 'hello'}\n",
      "MyClass\n",
      "()\n",
      "<class '__main__.MyMeta'>\n",
      "<class '__main__.MyClass'>\n",
      "dict_values(['__main__', 'MyClass', 1, 'hello', <function MyMeta.__new__.<locals>.get_attrs at 0x000001FC48D0CCA0>])\n"
     ]
    }
   ],
   "source": [
    "# Exercises:\n",
    "# 1) Easy\n",
    "\n",
    "class MyMeta(type): #you have to inherit from type!\n",
    "    \n",
    "    \n",
    "    \n",
    "    def __new__(self, class_name, bases, attrs):\n",
    "         # type(name, bases, attribute) \n",
    "         # YOU CALL THIS BEFORE THE __INIT__ method YOU MODIFY HOW THE OBJECT IS CREATED. IN SUMMARY IT MODIFIES THE CONSTRUCTION OF OBJECT\n",
    "        def get_attrs():\n",
    "\n",
    "            return attrs.values()\n",
    "        \n",
    "        print(attrs)\n",
    "        print(class_name)\n",
    "        print(bases)\n",
    "        attrs['get_attrs'] = get_attrs\n",
    "        return type.__new__(self,class_name, bases, attrs)\n",
    "\n",
    "    \n",
    "    \n",
    "class MyClass(metaclass=MyMeta):\n",
    "    foo = 1\n",
    "    bar = \"hello\"\n",
    "\n",
    "\n",
    "a = MyClass()\n",
    "print(type(MyClass))\n",
    "print(type(a))\n",
    "attrs = MyClass.get_attrs()\n",
    "print(attrs)\n"
   ]
  },
  {
   "cell_type": "code",
   "execution_count": 17,
   "metadata": {},
   "outputs": [
    {
     "data": {
      "text/plain": [
       "__main__.MyMeta"
      ]
     },
     "execution_count": 17,
     "metadata": {},
     "output_type": "execute_result"
    }
   ],
   "source": [
    "type(MyClass)"
   ]
  },
  {
   "cell_type": "code",
   "execution_count": null,
   "metadata": {},
   "outputs": [],
   "source": [
    "#NExt: When they are useful?\n",
    "\n",
    "#exercise "
   ]
  }
 ],
 "metadata": {
  "kernelspec": {
   "display_name": "base",
   "language": "python",
   "name": "python3"
  },
  "language_info": {
   "codemirror_mode": {
    "name": "ipython",
    "version": 3
   },
   "file_extension": ".py",
   "mimetype": "text/x-python",
   "name": "python",
   "nbconvert_exporter": "python",
   "pygments_lexer": "ipython3",
   "version": "3.8.8"
  },
  "orig_nbformat": 4
 },
 "nbformat": 4,
 "nbformat_minor": 2
}
