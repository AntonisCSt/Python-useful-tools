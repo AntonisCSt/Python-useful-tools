{
 "cells": [
  {
   "cell_type": "code",
   "execution_count": 1,
   "metadata": {},
   "outputs": [],
   "source": [
    "#practicing decorators"
   ]
  },
  {
   "cell_type": "code",
   "execution_count": 2,
   "metadata": {},
   "outputs": [],
   "source": [
    "#what decorators are actually doing?\n",
    "\n",
    "def func(f):\n",
    "    def wrapper():\n",
    "        print(\"Started\")\n",
    "        f()\n",
    "        print(\"Finished!\")\n",
    "    return wrapper\n",
    "\n",
    "def func2():\n",
    "    print(\"WOOOOOW\")\n",
    "\n",
    "def func3():\n",
    "    print(\"HIIIIIIII\")"
   ]
  },
  {
   "cell_type": "code",
   "execution_count": 7,
   "metadata": {},
   "outputs": [
    {
     "name": "stdout",
     "output_type": "stream",
     "text": [
      "Started\n",
      "WOOOOOW\n",
      "Finished!\n",
      "None\n",
      "Started\n",
      "HIIIIIIII\n",
      "Finished!\n",
      "None\n"
     ]
    }
   ],
   "source": [
    "x = func(func2)\n",
    "print(x())\n",
    "print(func(func3)())\n",
    "#We had to call a function inside a function."
   ]
  },
  {
   "cell_type": "code",
   "execution_count": 8,
   "metadata": {},
   "outputs": [],
   "source": [
    "#decorators basically do this:\n",
    "func3 = func(func3)"
   ]
  },
  {
   "cell_type": "code",
   "execution_count": 9,
   "metadata": {},
   "outputs": [
    {
     "name": "stdout",
     "output_type": "stream",
     "text": [
      "Started\n",
      "HIIIIIIII\n",
      "Finished!\n"
     ]
    }
   ],
   "source": [
    "func3()"
   ]
  },
  {
   "cell_type": "code",
   "execution_count": null,
   "metadata": {},
   "outputs": [],
   "source": [
    "# but.... because is weird to write func3 = func(func3) python has made the sign @ for us."
   ]
  },
  {
   "cell_type": "code",
   "execution_count": 12,
   "metadata": {},
   "outputs": [],
   "source": [
    "@func\n",
    "def func4():\n",
    "    print(\"LooooL\")"
   ]
  },
  {
   "cell_type": "code",
   "execution_count": 13,
   "metadata": {},
   "outputs": [
    {
     "name": "stdout",
     "output_type": "stream",
     "text": [
      "Started\n",
      "LooooL\n",
      "Finished!\n"
     ]
    }
   ],
   "source": [
    "func4()"
   ]
  },
  {
   "cell_type": "code",
   "execution_count": 15,
   "metadata": {},
   "outputs": [
    {
     "ename": "TypeError",
     "evalue": "wrapper() takes 0 positional arguments but 1 was given",
     "output_type": "error",
     "traceback": [
      "\u001b[1;31m---------------------------------------------------------------------------\u001b[0m",
      "\u001b[1;31mTypeError\u001b[0m                                 Traceback (most recent call last)",
      "\u001b[1;32m<ipython-input-15-45b77a285a8c>\u001b[0m in \u001b[0;36m<module>\u001b[1;34m\u001b[0m\n\u001b[0;32m      5\u001b[0m     \u001b[0mprint\u001b[0m\u001b[1;33m(\u001b[0m\u001b[0mx\u001b[0m\u001b[1;33m)\u001b[0m\u001b[1;33m\u001b[0m\u001b[1;33m\u001b[0m\u001b[0m\n\u001b[0;32m      6\u001b[0m \u001b[1;33m\u001b[0m\u001b[0m\n\u001b[1;32m----> 7\u001b[1;33m \u001b[0mfunc5\u001b[0m\u001b[1;33m(\u001b[0m\u001b[1;36m4\u001b[0m\u001b[1;33m)\u001b[0m\u001b[1;33m\u001b[0m\u001b[1;33m\u001b[0m\u001b[0m\n\u001b[0m",
      "\u001b[1;31mTypeError\u001b[0m: wrapper() takes 0 positional arguments but 1 was given"
     ]
    }
   ],
   "source": [
    "#### BUT IF NOW I PUT SOME INPUT:\n",
    "\n",
    "@func\n",
    "def func5(x):\n",
    "    print(x)\n",
    "\n",
    "func5(4)"
   ]
  },
  {
   "cell_type": "code",
   "execution_count": 16,
   "metadata": {},
   "outputs": [],
   "source": [
    "#SOOOO we have to make our function independent!\n",
    "\n",
    "#we use (*args,**kwargs)\n",
    "\n",
    "\n",
    "def fank(f):\n",
    "    def wrapper(*args,**kwargs):\n",
    "        print(\"Started\")\n",
    "        f(*args,**kwargs)\n",
    "        print(\"Finished!\")\n",
    "    return wrapper\n"
   ]
  },
  {
   "cell_type": "code",
   "execution_count": 17,
   "metadata": {},
   "outputs": [
    {
     "name": "stdout",
     "output_type": "stream",
     "text": [
      "Started\n",
      "4\n",
      "Finished!\n"
     ]
    }
   ],
   "source": [
    "@fank\n",
    "def func5(x):\n",
    "    print(x)\n",
    "\n",
    "func5(4)"
   ]
  },
  {
   "cell_type": "code",
   "execution_count": 18,
   "metadata": {},
   "outputs": [
    {
     "name": "stdout",
     "output_type": "stream",
     "text": [
      "Started\n",
      ":)\n",
      "Finished!\n"
     ]
    }
   ],
   "source": [
    "@fank\n",
    "def func6():\n",
    "    print(\":)\")\n",
    "\n",
    "func6()"
   ]
  },
  {
   "cell_type": "code",
   "execution_count": 19,
   "metadata": {},
   "outputs": [],
   "source": [
    "#now lets say we want to return a value\n",
    "\n",
    "\n",
    "def fank(f):\n",
    "    def wrapper(*args,**kwargs):\n",
    "        print(\"Started\")\n",
    "        output = f(*args,**kwargs)\n",
    "        print(\"Finished!\")\n",
    "        return output\n",
    "    return wrapper\n"
   ]
  },
  {
   "cell_type": "code",
   "execution_count": 20,
   "metadata": {},
   "outputs": [
    {
     "name": "stdout",
     "output_type": "stream",
     "text": [
      "Started\n",
      ":)\n",
      "Finished!\n"
     ]
    }
   ],
   "source": [
    "@fank\n",
    "def func6():\n",
    "    print(\":)\")\n",
    "\n",
    "func6()"
   ]
  },
  {
   "cell_type": "code",
   "execution_count": 22,
   "metadata": {},
   "outputs": [
    {
     "name": "stdout",
     "output_type": "stream",
     "text": [
      "Started\n",
      "4\n",
      "Finished!\n"
     ]
    },
    {
     "data": {
      "text/plain": [
       "4"
      ]
     },
     "execution_count": 22,
     "metadata": {},
     "output_type": "execute_result"
    }
   ],
   "source": [
    "@fank\n",
    "def func5(x):\n",
    "    print(x)\n",
    "    return x\n",
    "\n",
    "func5(4)"
   ]
  },
  {
   "cell_type": "code",
   "execution_count": null,
   "metadata": {},
   "outputs": [],
   "source": []
  }
 ],
 "metadata": {
  "kernelspec": {
   "display_name": "base",
   "language": "python",
   "name": "python3"
  },
  "language_info": {
   "codemirror_mode": {
    "name": "ipython",
    "version": 3
   },
   "file_extension": ".py",
   "mimetype": "text/x-python",
   "name": "python",
   "nbconvert_exporter": "python",
   "pygments_lexer": "ipython3",
   "version": "3.8.8"
  },
  "orig_nbformat": 4
 },
 "nbformat": 4,
 "nbformat_minor": 2
}
